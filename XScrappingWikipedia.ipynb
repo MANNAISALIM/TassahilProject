{
 "metadata": {
  "language_info": {
   "codemirror_mode": {
    "name": "ipython",
    "version": 3
   },
   "file_extension": ".py",
   "mimetype": "text/x-python",
   "name": "python",
   "nbconvert_exporter": "python",
   "pygments_lexer": "ipython3",
   "version": "3.7.9"
  },
  "orig_nbformat": 2,
  "kernelspec": {
   "name": "python3",
   "display_name": "Python 3.7.9 64-bit ('rasa': conda)",
   "metadata": {
    "interpreter": {
     "hash": "a131b23002352a39c90ec9f78c2dd25363be4d2949abe41fb7c6744488ddc8c5"
    }
   }
  }
 },
 "nbformat": 4,
 "nbformat_minor": 2,
 "cells": [
  {
   "cell_type": "code",
   "execution_count": 9,
   "metadata": {},
   "outputs": [
    {
     "output_type": "stream",
     "name": "stdout",
     "text": [
      "Requirement already satisfied: bs4 in c:\\users\\nevermind\\.conda\\envs\\rasa\\lib\\site-packages (0.0.1)\n",
      "Requirement already satisfied: beautifulsoup4 in c:\\users\\nevermind\\.conda\\envs\\rasa\\lib\\site-packages (from bs4) (4.9.3)\n",
      "Requirement already satisfied: soupsieve>1.2; python_version >= \"3.0\" in c:\\users\\nevermind\\.conda\\envs\\rasa\\lib\\site-packages (from beautifulsoup4->bs4) (2.2.1)\n",
      "WARNING: You are using pip version 20.2.4; however, version 21.0.1 is available.\n",
      "You should consider upgrading via the 'C:\\Users\\NeverMind\\.conda\\envs\\rasa\\python.exe -m pip install --upgrade pip' command.\n",
      "Collecting lxmlWARNING: You are using pip version 20.2.4; however, version 21.0.1 is available.\n",
      "You should consider upgrading via the 'C:\\Users\\NeverMind\\.conda\\envs\\rasa\\python.exe -m pip install --upgrade pip' command.\n",
      "\n",
      "  Downloading lxml-4.6.3-cp37-cp37m-win_amd64.whl (3.5 MB)\n",
      "Installing collected packages: lxml\n",
      "Successfully installed lxml-4.6.3\n"
     ]
    }
   ],
   "source": [
    "!pip3 install bs4\n",
    "!pip3 install lxml\n"
   ]
  },
  {
   "cell_type": "code",
   "execution_count": 1,
   "metadata": {},
   "outputs": [],
   "source": [
    "# import the library we use to open URLs\n",
    "import urllib.request\n",
    "# import the BeautifulSoup library so we can parse HTML and XML documents\n",
    "from bs4 import BeautifulSoup"
   ]
  },
  {
   "cell_type": "code",
   "execution_count": 2,
   "metadata": {},
   "outputs": [],
   "source": [
    "# specify which URL/web page we are going to be scraping\n",
    "url = \"https://appen.com/ai-glossary/\""
   ]
  },
  {
   "cell_type": "code",
   "execution_count": 3,
   "metadata": {},
   "outputs": [],
   "source": [
    "# open the url using urllib.request and put the HTML into the page variable\n",
    "page = urllib.request.urlopen(url)"
   ]
  },
  {
   "cell_type": "code",
   "execution_count": 4,
   "metadata": {},
   "outputs": [],
   "source": [
    "# parse the HTML from our URL into the BeautifulSoup parse tree format\n",
    "soup = BeautifulSoup(page, \"html.parser\")"
   ]
  },
  {
   "cell_type": "code",
   "execution_count": 5,
   "metadata": {
    "tags": [
     "outputPrepend"
    ]
   },
   "outputs": [
    {
     "output_type": "stream",
     "name": "stdout",
     "text": [
      "ory menu-item-33892\">\n            <a class=\"e26-11 x-anchor x-anchor-menu-item\" href=\"https://appen.com/resources/data-sheets/\" tabindex=\"0\">\n             <div class=\"x-anchor-content\">\n              <div class=\"x-anchor-text\">\n               <span class=\"x-anchor-text-primary\">\n                Data Sheets\n               </span>\n              </div>\n             </div>\n            </a>\n           </li>\n           <li class=\"js-current menu-item menu-item-type-custom menu-item-object-custom menu-item-has-children menu-item-33059\">\n            <a aria-controls=\"x-menu-collapsed-list-e26-11-9\" aria-expanded=\"false\" aria-haspopup=\"true\" aria-label=\"Toggle Collapsed Sub Menu\" class=\"e26-11 x-anchor x-anchor-menu-item\" data-x-toggle=\"collapse\" data-x-toggleable=\"e26-11-9\" id=\"x-menu-collapsed-anchor-e26-11-9\" tabindex=\"0\">\n             <div class=\"x-anchor-content\">\n              <div class=\"x-anchor-text\">\n               <span class=\"x-anchor-text-primary\">\n                Tools\n               </span>\n              </div>\n             </div>\n            </a>\n            <ul aria-hidden=\"true\" aria-labelledby=\"x-menu-collapsed-anchor-e26-11-9\" class=\"sub-menu x-collapsed\" data-x-toggle-collapse=\"1\" data-x-toggleable=\"e26-11-9\" id=\"x-menu-collapsed-list-e26-11-9\">\n             <li class=\"menu-item menu-item-type-custom menu-item-object-custom menu-item-33060\">\n              <a class=\"e26-11 x-anchor x-anchor-menu-item\" href=\"/ai-readiness-score/\" tabindex=\"0\">\n               <div class=\"x-anchor-content\">\n                <div class=\"x-anchor-text\">\n                 <span class=\"x-anchor-text-primary\">\n                  AI Readiness Assessment\n                 </span>\n                </div>\n               </div>\n              </a>\n             </li>\n             <li class=\"menu-item menu-item-type-post_type menu-item-object-page menu-item-33137\">\n              <a class=\"e26-11 x-anchor x-anchor-menu-item\" href=\"https://appen.com/insights-explorer/\" tabindex=\"0\">\n               <div class=\"x-anchor-content\">\n                <div class=\"x-anchor-text\">\n                 <span class=\"x-anchor-text-primary\">\n                  Insights Explorer\n                 </span>\n                </div>\n               </div>\n              </a>\n             </li>\n            </ul>\n           </li>\n          </ul>\n         </li>\n         <li class=\"resources-column menu-item menu-item-type-custom menu-item-object-custom menu-item-has-children menu-item-32926\">\n          <a aria-controls=\"x-menu-collapsed-list-e26-11-10\" aria-expanded=\"false\" aria-haspopup=\"true\" aria-label=\"Toggle Collapsed Sub Menu\" class=\"e26-11 x-anchor x-anchor-menu-item\" data-x-toggle=\"collapse\" data-x-toggleable=\"e26-11-10\" id=\"x-menu-collapsed-anchor-e26-11-10\" tabindex=\"0\">\n           <div class=\"x-anchor-content\">\n            <div class=\"x-anchor-text\">\n             <span class=\"x-anchor-text-primary\">\n              Resources column\n             </span>\n            </div>\n           </div>\n          </a>\n          <ul aria-hidden=\"true\" aria-labelledby=\"x-menu-collapsed-anchor-e26-11-10\" class=\"sub-menu x-collapsed\" data-x-toggle-collapse=\"1\" data-x-toggleable=\"e26-11-10\" id=\"x-menu-collapsed-list-e26-11-10\">\n           <li class=\"js-current mob-pt15 menu-item menu-item-type-custom menu-item-object-custom menu-item-has-children menu-item-32918\">\n            <a aria-controls=\"x-menu-collapsed-list-e26-11-11\" aria-expanded=\"false\" aria-haspopup=\"true\" aria-label=\"Toggle Collapsed Sub Menu\" class=\"e26-11 x-anchor x-anchor-menu-item\" data-x-toggle=\"collapse\" data-x-toggleable=\"e26-11-11\" id=\"x-menu-collapsed-anchor-e26-11-11\" tabindex=\"0\">\n             <div class=\"x-anchor-content\">\n              <div class=\"x-anchor-text\">\n               <span class=\"x-anchor-text-primary\">\n                Datasets\n               </span>\n              </div>\n             </div>\n            </a>\n            <ul aria-hidden=\"true\" aria-labelledby=\"x-menu-collapsed-anchor-e26-11-11\" class=\"sub-menu x-collapsed\" data-x-toggle-collapse=\"1\" data-x-toggleable=\"e26-11-11\" id=\"x-menu-collapsed-list-e26-11-11\">\n             <li class=\"menu-item menu-item-type-custom menu-item-object-custom menu-item-32919\">\n              <a class=\"e26-11 x-anchor x-anchor-menu-item\" href=\"/off-the-shelf-datasets/\" tabindex=\"0\">\n               <div class=\"x-anchor-content\">\n                <div class=\"x-anchor-text\">\n                 <span class=\"x-anchor-text-primary\">\n                  Off-the-Shelf Datasets\n                 </span>\n                </div>\n               </div>\n              </a>\n             </li>\n             <li class=\"menu-item menu-item-type-custom menu-item-object-custom menu-item-31386\">\n              <a class=\"e26-11 x-anchor x-anchor-menu-item\" href=\"/open-source-datasets/\" tabindex=\"0\">\n               <div class=\"x-anchor-content\">\n                <div class=\"x-anchor-text\">\n                 <span class=\"x-anchor-text-primary\">\n                  Datasets Resource Center\n                 </span>\n                </div>\n               </div>\n              </a>\n             </li>\n            </ul>\n           </li>\n           <li class=\"js-current menu-item menu-item-type-custom menu-item-object-custom menu-item-has-children menu-item-32917\">\n            <a aria-controls=\"x-menu-collapsed-list-e26-11-12\" aria-expanded=\"false\" aria-haspopup=\"true\" aria-label=\"Toggle Collapsed Sub Menu\" class=\"e26-11 x-anchor x-anchor-menu-item\" data-x-toggle=\"collapse\" data-x-toggleable=\"e26-11-12\" id=\"x-menu-collapsed-anchor-e26-11-12\" tabindex=\"0\">\n             <div class=\"x-anchor-content\">\n              <div class=\"x-anchor-text\">\n               <span class=\"x-anchor-text-primary\">\n                Community\n               </span>\n              </div>\n             </div>\n            </a>\n            <ul aria-hidden=\"true\" aria-labelledby=\"x-menu-collapsed-anchor-e26-11-12\" class=\"sub-menu x-collapsed\" data-x-toggle-collapse=\"1\" data-x-toggleable=\"e26-11-12\" id=\"x-menu-collapsed-list-e26-11-12\">\n             <li class=\"menu-item menu-item-type-post_type menu-item-object-page menu-item-366\">\n              <a class=\"e26-11 x-anchor x-anchor-menu-item\" href=\"https://appen.com/partners/\" tabindex=\"0\">\n               <div class=\"x-anchor-content\">\n                <div class=\"x-anchor-text\">\n                 <span class=\"x-anchor-text-primary\">\n                  Partners\n                 </span>\n                </div>\n               </div>\n              </a>\n             </li>\n             <li class=\"menu-item menu-item-type-custom menu-item-object-custom menu-item-31387\">\n              <a class=\"e26-11 x-anchor x-anchor-menu-item\" href=\"https://developer.figure-eight.com\" tabindex=\"0\">\n               <div class=\"x-anchor-content\">\n                <div class=\"x-anchor-text\">\n                 <span class=\"x-anchor-text-primary\">\n                  Developers\n                 </span>\n                </div>\n               </div>\n              </a>\n             </li>\n             <li class=\"menu-item menu-item-type-custom menu-item-object-custom menu-item-32172\">\n              <a class=\"e26-11 x-anchor x-anchor-menu-item\" href=\"https://success.figure-eight.com/hc/en-us\" tabindex=\"0\">\n               <div class=\"x-anchor-content\">\n                <div class=\"x-anchor-text\">\n                 <span class=\"x-anchor-text-primary\">\n                  Customers\n                 </span>\n                </div>\n               </div>\n              </a>\n             </li>\n            </ul>\n           </li>\n          </ul>\n         </li>\n         <li class=\"view-all menu-item menu-item-type-post_type menu-item-object-page menu-item-30334\">\n          <a class=\"e26-11 x-anchor x-anchor-menu-item\" href=\"https://appen.com/resources/\" tabindex=\"0\">\n           <div class=\"x-anchor-content\">\n            <div class=\"x-anchor-text\">\n             <span class=\"x-anchor-text-primary\">\n              All Resources\n             </span>\n            </div>\n           </div>\n          </a>\n         </li>\n        </ul>\n       </li>\n       <li class=\"menu-item menu-item-type-gs_sim menu-item-object-gs_sim menu-item-31981\">\n        <div class=\"e cs-content x-global-block x-global-block-31980\">\n         <div class=\"e31980-1 x-section\">\n          <div class=\"e31980-2 x-row x-container max width\">\n           <div class=\"x-row-inner\">\n            <div class=\"e31980-3 x-col\">\n             <hr class=\"e31980-4 x-line x-hide-lg x-hide-xl\"/>\n             <a class=\"e31980-5 x-anchor x-anchor-button nbj_amp\" href=\"/jobs/\" tabindex=\"0\">\n              <div class=\"x-anchor-content\">\n               <div class=\"x-anchor-text\">\n                <span class=\"x-anchor-text-primary\">\n                 Jobs\n                </span>\n               </div>\n              </div>\n             </a>\n             <a class=\"e31980-6 x-anchor x-anchor-button top_nav_btn_contact x-hide-md x-hide-sm x-hide-xs\" href=\"/contact/\" tabindex=\"0\">\n              <div class=\"x-anchor-content\">\n               <div class=\"x-anchor-text\">\n                <span class=\"x-anchor-text-primary\">\n                 Contact Sales\n                </span>\n               </div>\n              </div>\n             </a>\n             <hr class=\"e31980-7 x-line x-hide-lg x-hide-xl\"/>\n            </div>\n           </div>\n          </div>\n         </div>\n         <script>\n         </script>\n        </div>\n       </li>\n      </ul>\n     </div>\n    </div>\n   </div>\n  </div>\n  <noscript>\n   <iframe height=\"0\" src=\"https://www.googletagmanager.com/ns.html?id=GTM-KR6J22P\" style=\"display:none;visibility:hidden\" width=\"0\">\n   </iframe>\n  </noscript>\n  <a id=\"back_to_top\">\n   <picture>\n    <source srcset=\"https://resources.appen.com/wp-content/uploads/2020/05/Back-o-Top@2x.png.webp\" type=\"image/webp\"/>\n    <img alt=\"Website for deploying AI with world class training data\" src=\"https://resources.appen.com/wp-content/uploads/2020/05/Back-o-Top@2x.png\"/>\n   </picture>\n  </a>\n  <style>\n   #back_to_top{display:inline-block;width:50px;height:50px;text-align:center;border-radius:4px;position:fixed;bottom:30px;right:30px;transition:opacity .5s, visibility .5s;opacity:0;visibility:hidden;z-index:1000;cursor:pointer}#back_to_top.show{opacity:1;visibility:visible}\n  </style>\n  <script>\n   var btn=jQuery('#back_to_top');jQuery(window).scroll(function(){if(jQuery(window).scrollTop()>300){btn.addClass('show');}else{btn.removeClass('show');}});btn.on('click',function(e){e.preventDefault();jQuery('html, body').animate({scrollTop:0},'300');});\n  </script>\n  <link href=\"https://resources.appen.com/wp-content/plugins/premium-stock-market-widgets/css/style.css?ver=5.6.2\" id=\"appen-smw-plugin-style-css\" media=\"all\" rel=\"stylesheet\" type=\"text/css\"/>\n  <link href=\"https://maxcdn.bootstrapcdn.com/font-awesome/4.6.3/css/font-awesome.min.css?ver=5.6.2\" id=\"appen-font-awesome-css\" media=\"all\" rel=\"stylesheet\" type=\"text/css\"/>\n  <script id=\"vimeo-js\" src=\"https://f.vimeocdn.com/js/froogaloop2.min.js?ver=5.6.2\">\n  </script>\n  <script id=\"youtube-js\" src=\"https://www.youtube.com/player_api?ver=5.6.2\">\n  </script>\n  <script id=\"smw-plugin-main-js-extra\">\n   var smwGlobals={\"debug\":\"\",\"code\":\"smw\",\"ajaxUrl\":\"https:\\/\\/appen.com\\/wp-content\\/plugins\\/premium-stock-market-widgets\\/ajax.php\",\"ajaxMethod\":\"POST\",\"pluginUrl\":\"https:\\/\\/appen.com\\/wp-content\\/plugins\\/premium-stock-market-widgets\\/\",\"dependencies\":{\"marquee\":\"https:\\/\\/appen.com\\/wp-content\\/plugins\\/premium-stock-market-widgets\\/vendor\\/jquery.marquee\\/jquery.marquee.min.js\",\"tablesort\":\"https:\\/\\/appen.com\\/wp-content\\/plugins\\/premium-stock-market-widgets\\/vendor\\/jquery.tablesort\\/jquery.tablesort.min.js\",\"sparkline\":\"https:\\/\\/appen.com\\/wp-content\\/plugins\\/premium-stock-market-widgets\\/vendor\\/jquery.sparkline\\/jquery.sparkline.min.js\",\"chart\":\"https:\\/\\/appen.com\\/wp-content\\/plugins\\/premium-stock-market-widgets\\/vendor\\/chart.js\\/Chart.min.js\"}};\n  </script>\n  <script id=\"smw-plugin-main-js\" src=\"https://resources.appen.com/wp-content/plugins/premium-stock-market-widgets/js/app.min.js?ver=1.8.1\">\n  </script>\n  <script id=\"cornerstone-site-body-js\" src=\"https://resources.appen.com/wp-content/themes/pro/cornerstone/assets/dist/js/site/cs.0ce70e6.js\">\n  </script>\n  <script id=\"x-site-js\" src=\"https://resources.appen.com/wp-content/themes/pro/framework/dist/js/site/x.js?ver=3.2.3\">\n  </script>\n  <script id=\"comment-reply-js\" src=\"https://resources.appen.com/wp-includes/js/comment-reply.min.js?ver=5.6.2\">\n  </script>\n  <script id=\"jquery-lazyloadxt-js-extra\">\n   var a3_lazyload_params={\"apply_images\":\"1\",\"apply_videos\":\"\"};\n  </script>\n  <script id=\"jquery-lazyloadxt-js\" src=\"//resources.appen.com/wp-content/plugins/a3-lazy-load/assets/js/jquery.lazyloadxt.extra.min.js?ver=2.4.5\">\n  </script>\n  <script id=\"jquery-lazyloadxt-srcset-js\" src=\"//resources.appen.com/wp-content/plugins/a3-lazy-load/assets/js/jquery.lazyloadxt.srcset.min.js?ver=2.4.5\">\n  </script>\n  <script id=\"jquery-lazyloadxt-extend-js-extra\">\n   var a3_lazyload_extend_params={\"edgeY\":\"0\",\"horizontal_container_classnames\":\"\"};\n  </script>\n  <script id=\"jquery-lazyloadxt-extend-js\" src=\"//resources.appen.com/wp-content/plugins/a3-lazy-load/assets/js/jquery.lazyloadxt.extend.js?ver=2.4.5\">\n  </script>\n  <script defer=\"\" id=\"ubermenu-font-awesome-js-solid-js\" src=\"https://resources.appen.com/wp-content/plugins/ubermenu/assets/fontawesome/js/solid.min.js?ver=5.6.2\">\n  </script>\n  <script id=\"ubermenu-font-awesome-js-regular-js\" src=\"https://resources.appen.com/wp-content/plugins/ubermenu/assets/fontawesome/js/regular.min.js?ver=5.6.2\">\n  </script>\n  <script id=\"ubermenu-font-awesome-js-core-js\" src=\"https://resources.appen.com/wp-content/plugins/ubermenu/assets/fontawesome/js/fontawesome.min.js?ver=5.6.2\">\n  </script>\n  <script id=\"ubermenu-js-extra\">\n   var ubermenu_data={\"remove_conflicts\":\"on\",\"reposition_on_load\":\"off\",\"intent_delay\":\"300\",\"intent_interval\":\"100\",\"intent_threshold\":\"7\",\"scrollto_offset\":\"50\",\"scrollto_duration\":\"1000\",\"responsive_breakpoint\":\"959\",\"accessible\":\"on\",\"retractor_display_strategy\":\"responsive\",\"touch_off_close\":\"on\",\"submenu_indicator_close_mobile\":\"on\",\"collapse_after_scroll\":\"on\",\"v\":\"3.7.3\",\"configurations\":[\"main\"],\"ajax_url\":\"https:\\/\\/appen.com\\/wp-admin\\/admin-ajax.php\",\"plugin_url\":\"https:\\/\\/appen.com\\/wp-content\\/plugins\\/ubermenu\\/\",\"disable_mobile\":\"off\",\"prefix_boost\":\"\",\"use_core_svgs\":\"off\",\"aria_role_navigation\":\"off\",\"aria_nav_label\":\"off\",\"aria_expanded\":\"off\",\"aria_hidden\":\"off\",\"aria_controls\":\"\",\"aria_responsive_toggle\":\"off\",\"icon_tag\":\"i\",\"esc_close_mobile\":\"on\",\"theme_locations\":{\"amp-menu-uk\":\"AMP Menu UK\",\"primary\":\"Primary Menu\",\"footer\":\"Footer Menu\",\"amp-menu\":\"AMP Menu\",\"amp-footer-menu\":\"AMP Footer Menu\"}};\n  </script>\n  <script id=\"ubermenu-js\" src=\"https://resources.appen.com/wp-content/plugins/ubermenu/assets/js/ubermenu.min.js?ver=3.7.3\">\n  </script>\n  <script id=\"initSliders-js\" src=\"https://resources.appen.com/wp-content/themes/pro-child/static/dist/scripts/initSliders.e93d.js?ver=1.1.5\">\n  </script>\n  <script id=\"wp-embed-js\" src=\"https://resources.appen.com/wp-includes/js/wp-embed.min.js?ver=5.6.2\">\n  </script>\n  <div class=\"lang-menu\" id=\"amp-lang-menu\">\n   <div class=\"lang-select\" on=\"tap:amp-lang-menu.toggleClass(class='menu-active')\">\n    <div class=\"m-scrl\">\n     <div class=\"lang-in\">\n      <div class=\"lang-heading\">\n       Language\n      </div>\n     </div>\n    </div>\n   </div>\n   <div class=\"lang-cont\">\n    <div class=\"m-scrl\">\n     <div class=\"lang-in\">\n      <div class=\"lang-pad\">\n       <div class=\"widget_text widget widget_custom_html\" id=\"custom_html-2\">\n        <div class=\"textwidget custom-html-widget\">\n         <div class=\"lang-item\">\n          <a href=\"https://www.appen.com.cn/\">\n           Chinese\n          </a>\n         </div>\n         <div class=\"lang-item\">\n          <a href=\"https://japan.appen.com/\">\n           Japanese\n          </a>\n         </div>\n        </div>\n       </div>\n      </div>\n     </div>\n    </div>\n   </div>\n  </div>\n  <style>\n   .lang-menu{position:fixed;z-index:99999999 !important;left:0;bottom:-100%;width:100%;background:#F8F9FA;z-index:10000;transition: .3s;font-family:\"Grotesque\";color:rgba(0,0,0,1)}.show_lang_menu .lang-menu{bottom:0}.lang-cont{display:none}.lang-menu.menu-active .lang-cont{display:block}.lang-in{width:100%}.lang-select{border-top:1px solid rgba(208, 211, 212,.25);box-shadow:0px 1px 0px 0px rgba(0,0,0,.04)}.lang-menu.menu-active{background:#fff}.lang-heading{position:relative;padding:20px\n30px}.lang-pad{padding:10px\n20px}.lang-item a, .lang-item a:hover{color:#4B4F54;display:block;padding:7px\n10px}.lang-heading:after{content:\"\";background-image:url(\"data:image/svg+xml;charset=UTF-8,%3csvg width='8' height='14' viewBox='0 0 8 14' fill='none' xmlns='http://www.w3.org/2000/svg'%3e%3cmask id='path-1-inside-1' fill='white'%3e%3cpath fill-rule='evenodd' clip-rule='evenodd' d='M0.666829 13.3637L7.3335 7.00011L0.666829 0.636475'/%3e%3c/mask%3e%3cpath d='M7.3335 7.00011L8.71445 8.44682L10.23 7.00011L8.71445 5.5534L7.3335 7.00011ZM2.04778 14.8105L8.71445 8.44682L5.95254 5.5534L-0.714122 11.917L2.04778 14.8105ZM8.71445 5.5534L2.04778 -0.810237L-0.714122 2.08319L5.95254 8.44682L8.71445 5.5534Z' fill='%23EF4126' mask='url(%23path-1-inside-1)'/%3e%3c/svg%3e \");background-repeat:no-repeat;background-position:center center;display:inline-block;top:1px;padding:5px;top:50%;transform:translateY(-50%) rotate(90deg);right:20px;left:auto;cursor:pointer;border-radius:35px;color:rgb(237 56 51);position:absolute;transition:all 0.2s linear}.menu-active .lang-heading{color:rgb(237 56 51)}.menu-active .lang-heading:after{transform:translateY(-50%) rotate(-90deg)}@media screen and (min-width:1024px){.lang-menu{display:none !important}}\n  </style>\n  <script>\n   jQuery(function($){$('.js-burger-btn').on('click',function(){setTimeout(function(){if($(\".x-off-canvas\").hasClass('x-active')){$(\"body\").addClass(\"show_lang_menu\");}else{$(\"body\").removeClass(\"show_lang_menu\");}},100);});$(\".lang-select\").click(function(e){$(\"#amp-lang-menu\").toggleClass(\"menu-active\");})})\n  </script>\n  <script id=\"x-header-custom-scripts\">\n   const clientLoginBtn=document.querySelector('.client_login a');const jobsBtn=document.querySelectorAll('a[href=\"/jobs/\"]');clientLoginBtn.addEventListener('click',function(){woopra.track(\"client_login\",{});});Array.from(jobsBtn).forEach(el=>{el.addEventListener('click',function(){var customData={value:'MyEvent'};woopra.track(\"jobs_click\",{});});})\n  </script>\n  <script id=\"x-custom-js\">\n   (function($){$('a[href*=\\\\#]:not([href=\\\\#])').click(function()\n{if(location.pathname.replace(/^\\//,'')==this.pathname.replace(/^\\//,'')||location.hostname==this.hostname)\n{var target=$(this.hash),headerHeight=$(\".x-bar-is-sticky\").height()+5;target=target.length?target:$('[name='+this.hash.slice(1)+']');if(target.length)\n{$('html,body').animate({scrollTop:target.offset().top-headerHeight},500);return false;}}});$('.x-menu-collapsed a[href*=\\\\#]:not([href=\\\\#])').on(\"click\",function(event){$('html').removeClass('js-no-scroll');$('.js-burger-btn').click();});const resourcesFilterLink=document.querySelectorAll('#menu-resources-filter a');if(resourcesFilterLink){Array.from(resourcesFilterLink).forEach(el=>{el.addEventListener('click',function(){woopra.track(\"resource_filter\",{category:el.innerText});});})}\nconst datasetDownloadBtn=document.querySelectorAll('.download-links a:not(.open-dataset-info');if(datasetDownloadBtn){Array.from(datasetDownloadBtn).forEach(el=>{el.addEventListener('click',function(){woopra.track(\"dataset_download\",{});});})}})(jQuery);\n  </script>\n  <script type=\"text/javascript\">\n   window.NREUM||(NREUM={});NREUM.info={\"beacon\":\"bam.nr-data.net\",\"licenseKey\":\"NRJS-27ebd86ffe5b484b17f\",\"applicationID\":\"632193596\",\"transactionName\":\"Y1BRYRdSXEAAWkJeVloaclYRWl1dTk1TWklYVEdQSFFeUg9SGwM=\",\"queueTime\":0,\"applicationTime\":1937,\"atts\":\"TxdSF19IT04=\",\"errorBeacon\":\"bam.nr-data.net\",\"agent\":\"\"}\n  </script>\n </body>\n</html>\n"
     ]
    }
   ],
   "source": [
    "print(soup.prettify())"
   ]
  },
  {
   "cell_type": "code",
   "execution_count": 6,
   "metadata": {},
   "outputs": [
    {
     "output_type": "execute_result",
     "data": {
      "text/plain": [
       "'AI Glossary | Curated by Data Scientists and ML Experts'"
      ]
     },
     "metadata": {},
     "execution_count": 6
    }
   ],
   "source": [
    "soup.title.string"
   ]
  },
  {
   "cell_type": "code",
   "execution_count": 7,
   "metadata": {},
   "outputs": [],
   "source": [
    "all_div_tags = []\n",
    "for element in soup.select(\"div.x-text\"):\n",
    "    all_div_tags.append(element.text)"
   ]
  },
  {
   "cell_type": "code",
   "execution_count": 9,
   "metadata": {},
   "outputs": [
    {
     "output_type": "execute_result",
     "data": {
      "text/plain": [
       "                                                 title\n",
       "0                                           [NEW BOOK]\n",
       "1                                      The AI Glossary\n",
       "2    This glossary has been curated by data scienti...\n",
       "3           The Appen Artificial Intelligence Glossary\n",
       "4    To help those who are just learning about the ...\n",
       "..                                                 ...\n",
       "281                                                  K\n",
       "282                                                  K\n",
       "283  Find out how reliable training data can give y...\n",
       "284                               @ 2021 Appen Limited\n",
       "285                               @ 2021 Appen Limited\n",
       "\n",
       "[286 rows x 1 columns]"
      ],
      "text/html": "<div>\n<style scoped>\n    .dataframe tbody tr th:only-of-type {\n        vertical-align: middle;\n    }\n\n    .dataframe tbody tr th {\n        vertical-align: top;\n    }\n\n    .dataframe thead th {\n        text-align: right;\n    }\n</style>\n<table border=\"1\" class=\"dataframe\">\n  <thead>\n    <tr style=\"text-align: right;\">\n      <th></th>\n      <th>title</th>\n    </tr>\n  </thead>\n  <tbody>\n    <tr>\n      <th>0</th>\n      <td>[NEW BOOK]</td>\n    </tr>\n    <tr>\n      <th>1</th>\n      <td>The AI Glossary</td>\n    </tr>\n    <tr>\n      <th>2</th>\n      <td>This glossary has been curated by data scienti...</td>\n    </tr>\n    <tr>\n      <th>3</th>\n      <td>The Appen Artificial Intelligence Glossary</td>\n    </tr>\n    <tr>\n      <th>4</th>\n      <td>To help those who are just learning about the ...</td>\n    </tr>\n    <tr>\n      <th>...</th>\n      <td>...</td>\n    </tr>\n    <tr>\n      <th>281</th>\n      <td>K</td>\n    </tr>\n    <tr>\n      <th>282</th>\n      <td>K</td>\n    </tr>\n    <tr>\n      <th>283</th>\n      <td>Find out how reliable training data can give y...</td>\n    </tr>\n    <tr>\n      <th>284</th>\n      <td>@ 2021 Appen Limited</td>\n    </tr>\n    <tr>\n      <th>285</th>\n      <td>@ 2021 Appen Limited</td>\n    </tr>\n  </tbody>\n</table>\n<p>286 rows × 1 columns</p>\n</div>"
     },
     "metadata": {},
     "execution_count": 9
    }
   ],
   "source": [
    "#!pip3 install pandas\n",
    "import pandas as pd\n",
    "\n",
    "df=pd.DataFrame(all_div_tags,columns=['title'])\n",
    "df\n"
   ]
  },
  {
   "cell_type": "code",
   "execution_count": 10,
   "metadata": {},
   "outputs": [],
   "source": [
    "import csv\n",
    "f = open('wiki.csv', 'w')\n",
    "with f:\n",
    "    \n",
    "    fnames = ['Title','Definition']\n",
    "    writer = csv.DictWriter(f, fieldnames=fnames)    \n",
    "    writer.writeheader()\n",
    "    i = 7\n",
    "    while i < 279:\n",
    "        if len(df.title[i]) > 1 and len(df.title[i]) < len(df.title[i+1]):\n",
    "            writer.writerow({'Title': df.title[i] ,'Definition': df.title[i+1] })\n",
    "            i += 2\n",
    "        else:\n",
    "            i += 1\n"
   ]
  },
  {
   "cell_type": "code",
   "execution_count": 11,
   "metadata": {},
   "outputs": [],
   "source": [
    "import pandas as pd\n",
    "import numpy as np\n",
    "data = pd.read_csv('wiki.csv')\n",
    "data = data.replace('',np.nan)\n",
    "data = data.dropna(axis= 0, how=\"any\")"
   ]
  },
  {
   "cell_type": "code",
   "execution_count": 12,
   "metadata": {},
   "outputs": [
    {
     "output_type": "execute_result",
     "data": {
      "text/plain": [
       "                                                Title  \\\n",
       "0                                         A/B Testing   \n",
       "1                                 Activation Function   \n",
       "2          Active Learning (Active Learning Strategy)   \n",
       "3                                           Algorithm   \n",
       "4                                          Annotation   \n",
       "5                          Area Under the Curve (AUC)   \n",
       "6                             Artificial Intelligence   \n",
       "7                          Artificial Neural Networks   \n",
       "8                           Association Rule Learning   \n",
       "9                                         Autoencoder   \n",
       "10                       Automated Speech Recognition   \n",
       "11     Backpropagation (Backpropagation Through Time)   \n",
       "12                                              Batch   \n",
       "13                                    Bayes�s Theorem   \n",
       "14           Bias (Inductive Bias, Confirmation Bias)   \n",
       "15                             Bias-Variance Tradeoff   \n",
       "16                                           Boosting   \n",
       "17                                       Bounding Box   \n",
       "18                                            Chatbot   \n",
       "19                                     Classification   \n",
       "20                                         Clustering   \n",
       "21                                         Cold-Start   \n",
       "22                            Collaborative Filtering   \n",
       "23                                    Computer Vision   \n",
       "24                                Confidence Interval   \n",
       "25                                        Contributor   \n",
       "26                 Convolutional Neural Network (CNN)   \n",
       "27                      Central Processing Unit (CPU)   \n",
       "28  Cross-Validation (k-fold Cross-Validation, Lea...   \n",
       "29                          � k-fold Cross-Validation   \n",
       "\n",
       "                                           Definition  \n",
       "0    A controlled, real-life experiment designed t...  \n",
       "1    In the context of Artificial Neural Networks,...  \n",
       "2    A special case of Semi-Supervised Machine Lea...  \n",
       "3    An unambiguous specification of a process des...  \n",
       "4    A metadatum attached to a piece of data, typi...  \n",
       "5    A methodology used in Machine Learning to det...  \n",
       "6    A methodology used in Machine Learning to det...  \n",
       "7    An architecture composed of successive layers...  \n",
       "8    A rule-based Machine Learning method for disc...  \n",
       "9    A type of Artificial Neural Network used to p...  \n",
       "10   A subfield of Computational Linguistics inter...  \n",
       "11   A method used to train Artificial Neural Netw...  \n",
       "12   The set of examples used in one gradient upda...  \n",
       "13   A famous theorem used by statisticians to des...  \n",
       "14  Inductive Bias: the set of assumptions that th...  \n",
       "15   A conflict arising when data scientists try t...  \n",
       "16   A Machine Learning ensemble meta-algorithm fo...  \n",
       "17   The smallest (rectangular) box fully containi...  \n",
       "18   A computer program or an AI designed to inter...  \n",
       "19   The task of approximating a mapping function ...  \n",
       "20   In Machine Learning, the unsupervised task of...  \n",
       "21   A potential issue arising from the fact that ...  \n",
       "22   A method used in the context of recommender s...  \n",
       "23   The field of Machine Learning that studies ho...  \n",
       "24   A type of interval estimate that is likely to...  \n",
       "25  A human worker providing annotations on the Ap...  \n",
       "26   A class of Deep, Feed-Forward Artificial Neur...  \n",
       "27   The electronic circuitry within a computer th...  \n",
       "28   A collection of processes designed to evaluat...  \n",
       "29                     � Leave-p-out Cross-Validation  "
      ],
      "text/html": "<div>\n<style scoped>\n    .dataframe tbody tr th:only-of-type {\n        vertical-align: middle;\n    }\n\n    .dataframe tbody tr th {\n        vertical-align: top;\n    }\n\n    .dataframe thead th {\n        text-align: right;\n    }\n</style>\n<table border=\"1\" class=\"dataframe\">\n  <thead>\n    <tr style=\"text-align: right;\">\n      <th></th>\n      <th>Title</th>\n      <th>Definition</th>\n    </tr>\n  </thead>\n  <tbody>\n    <tr>\n      <th>0</th>\n      <td>A/B Testing</td>\n      <td>A controlled, real-life experiment designed t...</td>\n    </tr>\n    <tr>\n      <th>1</th>\n      <td>Activation Function</td>\n      <td>In the context of Artificial Neural Networks,...</td>\n    </tr>\n    <tr>\n      <th>2</th>\n      <td>Active Learning (Active Learning Strategy)</td>\n      <td>A special case of Semi-Supervised Machine Lea...</td>\n    </tr>\n    <tr>\n      <th>3</th>\n      <td>Algorithm</td>\n      <td>An unambiguous specification of a process des...</td>\n    </tr>\n    <tr>\n      <th>4</th>\n      <td>Annotation</td>\n      <td>A metadatum attached to a piece of data, typi...</td>\n    </tr>\n    <tr>\n      <th>5</th>\n      <td>Area Under the Curve (AUC)</td>\n      <td>A methodology used in Machine Learning to det...</td>\n    </tr>\n    <tr>\n      <th>6</th>\n      <td>Artificial Intelligence</td>\n      <td>A methodology used in Machine Learning to det...</td>\n    </tr>\n    <tr>\n      <th>7</th>\n      <td>Artificial Neural Networks</td>\n      <td>An architecture composed of successive layers...</td>\n    </tr>\n    <tr>\n      <th>8</th>\n      <td>Association Rule Learning</td>\n      <td>A rule-based Machine Learning method for disc...</td>\n    </tr>\n    <tr>\n      <th>9</th>\n      <td>Autoencoder</td>\n      <td>A type of Artificial Neural Network used to p...</td>\n    </tr>\n    <tr>\n      <th>10</th>\n      <td>Automated Speech Recognition</td>\n      <td>A subfield of Computational Linguistics inter...</td>\n    </tr>\n    <tr>\n      <th>11</th>\n      <td>Backpropagation (Backpropagation Through Time)</td>\n      <td>A method used to train Artificial Neural Netw...</td>\n    </tr>\n    <tr>\n      <th>12</th>\n      <td>Batch</td>\n      <td>The set of examples used in one gradient upda...</td>\n    </tr>\n    <tr>\n      <th>13</th>\n      <td>Bayes�s Theorem</td>\n      <td>A famous theorem used by statisticians to des...</td>\n    </tr>\n    <tr>\n      <th>14</th>\n      <td>Bias (Inductive Bias, Confirmation Bias)</td>\n      <td>Inductive Bias: the set of assumptions that th...</td>\n    </tr>\n    <tr>\n      <th>15</th>\n      <td>Bias-Variance Tradeoff</td>\n      <td>A conflict arising when data scientists try t...</td>\n    </tr>\n    <tr>\n      <th>16</th>\n      <td>Boosting</td>\n      <td>A Machine Learning ensemble meta-algorithm fo...</td>\n    </tr>\n    <tr>\n      <th>17</th>\n      <td>Bounding Box</td>\n      <td>The smallest (rectangular) box fully containi...</td>\n    </tr>\n    <tr>\n      <th>18</th>\n      <td>Chatbot</td>\n      <td>A computer program or an AI designed to inter...</td>\n    </tr>\n    <tr>\n      <th>19</th>\n      <td>Classification</td>\n      <td>The task of approximating a mapping function ...</td>\n    </tr>\n    <tr>\n      <th>20</th>\n      <td>Clustering</td>\n      <td>In Machine Learning, the unsupervised task of...</td>\n    </tr>\n    <tr>\n      <th>21</th>\n      <td>Cold-Start</td>\n      <td>A potential issue arising from the fact that ...</td>\n    </tr>\n    <tr>\n      <th>22</th>\n      <td>Collaborative Filtering</td>\n      <td>A method used in the context of recommender s...</td>\n    </tr>\n    <tr>\n      <th>23</th>\n      <td>Computer Vision</td>\n      <td>The field of Machine Learning that studies ho...</td>\n    </tr>\n    <tr>\n      <th>24</th>\n      <td>Confidence Interval</td>\n      <td>A type of interval estimate that is likely to...</td>\n    </tr>\n    <tr>\n      <th>25</th>\n      <td>Contributor</td>\n      <td>A human worker providing annotations on the Ap...</td>\n    </tr>\n    <tr>\n      <th>26</th>\n      <td>Convolutional Neural Network (CNN)</td>\n      <td>A class of Deep, Feed-Forward Artificial Neur...</td>\n    </tr>\n    <tr>\n      <th>27</th>\n      <td>Central Processing Unit (CPU)</td>\n      <td>The electronic circuitry within a computer th...</td>\n    </tr>\n    <tr>\n      <th>28</th>\n      <td>Cross-Validation (k-fold Cross-Validation, Lea...</td>\n      <td>A collection of processes designed to evaluat...</td>\n    </tr>\n    <tr>\n      <th>29</th>\n      <td>� k-fold Cross-Validation</td>\n      <td>� Leave-p-out Cross-Validation</td>\n    </tr>\n  </tbody>\n</table>\n</div>"
     },
     "metadata": {},
     "execution_count": 12
    }
   ],
   "source": [
    "data.head(30)"
   ]
  },
  {
   "cell_type": "code",
   "execution_count": null,
   "metadata": {},
   "outputs": [],
   "source": []
  }
 ]
}