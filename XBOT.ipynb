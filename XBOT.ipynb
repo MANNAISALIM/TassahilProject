{
 "metadata": {
  "language_info": {
   "codemirror_mode": {
    "name": "ipython",
    "version": 3
   },
   "file_extension": ".py",
   "mimetype": "text/x-python",
   "name": "python",
   "nbconvert_exporter": "python",
   "pygments_lexer": "ipython3",
   "version": "3.7.9"
  },
  "orig_nbformat": 2,
  "kernelspec": {
   "name": "python379jvsc74a57bd0a131b23002352a39c90ec9f78c2dd25363be4d2949abe41fb7c6744488ddc8c5",
   "display_name": "Python 3.7.9 64-bit ('rasa': conda)"
  }
 },
 "nbformat": 4,
 "nbformat_minor": 2,
 "cells": [
  {
   "cell_type": "code",
   "execution_count": 1,
   "metadata": {},
   "outputs": [],
   "source": [
    "import pandas as pd\n",
    "df = pd.read_csv(\"D:\\\\ISITCom\\\\3DNI\\\\3DNI3_S1\\\\Intership\\\\Datasets\\\\FinalDataset.csv\", usecols=['Title'])\n",
    "X= []\n",
    "for index, row in df.iterrows():\n",
    "    X.append(row.Title)"
   ]
  },
  {
   "cell_type": "code",
   "execution_count": 4,
   "metadata": {},
   "outputs": [],
   "source": [
    "i = 0\n",
    "with open('XBot_definition_of_ai_component.txt', 'w',encoding='utf-8-sig') as ft:\n",
    "    while i < 264 :\n",
    "        ft.write(\"    - what is [\"+ str(X[i]) +\"](title) ?\")\n",
    "        ft.write(\"\\n\")\n",
    "        ft.write(\"    - tell me what is [\"+ str(X[i+1]) +\"](title)?\")\n",
    "        ft.write(\"\\n\")\n",
    "        ft.write(\"    - i don\\'t understand [\"+ str(X[i+2]) +\"](title)\")\n",
    "        ft.write(\"\\n\")\n",
    "        ft.write(\"    - can you tell me what is  [\"+ str(X[i+3]) +\"](title)?\")\n",
    "        ft.write(\"\\n\")\n",
    "        ft.write(\"    - can i ask you, what is [\"+ str(X[i+4]) +\"](title)?\")\n",
    "        ft.write(\"\\n\")\n",
    "        ft.write(\"    - and what is [\"+ str(X[i+5]) +\"](title)?\")\n",
    "        ft.write(\"\\n\")\n",
    "        ft.write(\"    - tell me more about [\"+ str(X[i+6]) +\"](title)\")\n",
    "        ft.write(\"\\n\")\n",
    "        ft.write(\"    - my question is . What is [\"+ str(X[i+7]) +\"](title)!\")\n",
    "        ft.write(\"\\n\")\n",
    "        ft.write(\"    - I would like to know [\"+ str(X[i+8]) +\"](title)!\")\n",
    "        ft.write(\"\\n\")\n",
    "        ft.write(\"    - what is the abbreviation for [\"+ str(X[i+9]) +\"](title)?\")\n",
    "        ft.write(\"\\n\")\n",
    "        ft.write(\"    - the abbreviation of [\"+ str(X[i+10]) +\"](title)?\")\n",
    "        ft.write(\"\\n\")\n",
    "        i += 11\n",
    "\n",
    "       "
   ]
  },
  {
   "cell_type": "code",
   "execution_count": 8,
   "metadata": {},
   "outputs": [],
   "source": [
    "i = 0\n",
    "with open('XBot_start_with_ai_component.txt', 'w',encoding='utf-8-sig') as ft:\n",
    "    while i < 264 :\n",
    "        ft.write(\"    - how can i start with [\"+ str(X[i]) +\"](title)\")\n",
    "        ft.write(\"\\n\")\n",
    "        ft.write(\"    - starting point of [\"+ str(X[i+1]) +\"](title)\")\n",
    "        ft.write(\"\\n\")\n",
    "        ft.write(\"    - from where should i get start [\"+ str(X[i+2]) +\"](title)\")\n",
    "        ft.write(\"\\n\")\n",
    "        ft.write(\"    - what if want to be professional in [\"+ str(X[i+3]) +\"](title)\")\n",
    "        ft.write(\"\\n\")\n",
    "        ft.write(\"    - What is the best way to get started with [\"+ str(X[i+4]) +\"](title)\")\n",
    "        ft.write(\"\\n\")\n",
    "        ft.write(\"    - What is the best way to start with [\"+ str(X[i+5]) +\"](title)\")\n",
    "        ft.write(\"\\n\")\n",
    "        i += 6\n"
   ]
  },
  {
   "cell_type": "code",
   "execution_count": 2,
   "metadata": {},
   "outputs": [],
   "source": [
    "i = 0\n",
    "with open('XBot_website_to_ai_component.txt', 'w',encoding='utf-8-sig') as ft:\n",
    "    while i < 264 :\n",
    "        ft.write(\"    - and the website of [\"+ str(X[i]) +\"](title)\")\n",
    "        ft.write(\"\\n\")\n",
    "        ft.write(\"    - need more info on [\"+ str(X[i+1]) +\"](title)\")\n",
    "        ft.write(\"\\n\")\n",
    "        ft.write(\"    - link to [\"+ str(X[i+2]) +\"](title) website\")\n",
    "        ft.write(\"\\n\")\n",
    "        ft.write(\"    - website of [\"+ str(X[i+3]) +\"](title)\")\n",
    "        ft.write(\"\\n\")\n",
    "        ft.write(\"    - I need more info about [\"+ str(X[i+4]) +\"](title)\")\n",
    "        ft.write(\"\\n\")\n",
    "        ft.write(\"    - the official website of [\"+ str(X[i+5]) +\"](title)\")\n",
    "        ft.write(\"\\n\")\n",
    "        ft.write(\"    - can you send me any websites or links of [\"+ str(X[i+6]) +\"](title)\")\n",
    "        ft.write(\"\\n\")\n",
    "        ft.write(\"    - i can't find any informations about  [\"+ str(X[i+7]) +\"](title)\")\n",
    "        ft.write(\"\\n\")\n",
    "        i += 8\n"
   ]
  },
  {
   "cell_type": "code",
   "execution_count": 3,
   "metadata": {},
   "outputs": [],
   "source": [
    "i = 0\n",
    "with open('XBot_next_step_ai_component.txt', 'w',encoding='utf-8-sig') as ft:\n",
    "    while i < 264 :\n",
    "        ft.write(\"    - what is next step after [\"+ str(X[i]) +\"](title)\")\n",
    "        ft.write(\"\\n\")\n",
    "        ft.write(\"    - after [\"+ str(X[i+1]) +\"](title)\")\n",
    "        ft.write(\"\\n\")\n",
    "        ft.write(\"    - what do you propose after [\"+ str(X[i+2]) +\"](title)\")\n",
    "        ft.write(\"\\n\")\n",
    "        ft.write(\"    - and what would be the next step after [\"+ str(X[i+3]) +\"](title)\")\n",
    "        ft.write(\"\\n\")\n",
    "        ft.write(\"    - what should i do after learning [\"+ str(X[i+4]) +\"](title)\")\n",
    "        ft.write(\"\\n\")\n",
    "        ft.write(\"    - what do you propose to do after [\"+ str(X[i+5]) +\"](title)\")\n",
    "        ft.write(\"\\n\")\n",
    "        i += 6\n"
   ]
  },
  {
   "cell_type": "code",
   "execution_count": 10,
   "metadata": {},
   "outputs": [],
   "source": [
    "i = 0\n",
    "with open('XBot_architecture_of_ai_component.txt', 'w',encoding='utf-8-sig') as ft:\n",
    "    while i < 264 :\n",
    "        ft.write(\"    - any images for [\"+ str(X[i]) +\"](title) explication\")\n",
    "        ft.write(\"\\n\")\n",
    "        ft.write(\"    - simple definition of [\"+ str(X[i+1]) +\"](title)\")\n",
    "        ft.write(\"\\n\")\n",
    "        ft.write(\"    - what is the architecture of [\"+ str(X[i+2]) +\"](title)\")\n",
    "        ft.write(\"\\n\")\n",
    "        ft.write(\"    - It is not clear about [\"+ str(X[i+3]) +\"](title)\")\n",
    "        ft.write(\"\\n\")\n",
    "        ft.write(\"    - Can you send me an image for [\"+ str(X[i+4]) +\"](title)\")\n",
    "        ft.write(\"\\n\")\n",
    "        ft.write(\"    - a picture would help me understand better [\"+ str(X[i+5]) +\"](title)\")\n",
    "        ft.write(\"\\n\")\n",
    "        ft.write(\"    - more explanation about [\"+ str(X[i+6]) +\"](title) please\")\n",
    "        ft.write(\"\\n\")\n",
    "        ft.write(\"    - ok, tell me more about [\"+ str(X[i+7]) +\"](title) please\")\n",
    "        ft.write(\"\\n\")\n",
    "        i += 8\n"
   ]
  },
  {
   "cell_type": "code",
   "execution_count": null,
   "metadata": {},
   "outputs": [],
   "source": []
  }
 ]
}