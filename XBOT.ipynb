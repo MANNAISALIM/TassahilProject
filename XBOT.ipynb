{
 "metadata": {
  "language_info": {
   "codemirror_mode": {
    "name": "ipython",
    "version": 3
   },
   "file_extension": ".py",
   "mimetype": "text/x-python",
   "name": "python",
   "nbconvert_exporter": "python",
   "pygments_lexer": "ipython3",
   "version": "3.7.9"
  },
  "orig_nbformat": 2,
  "kernelspec": {
   "name": "python3",
   "display_name": "Python 3.7.9 64-bit ('rasa': conda)",
   "metadata": {
    "interpreter": {
     "hash": "a131b23002352a39c90ec9f78c2dd25363be4d2949abe41fb7c6744488ddc8c5"
    }
   }
  }
 },
 "nbformat": 4,
 "nbformat_minor": 2,
 "cells": [
  {
   "cell_type": "code",
   "execution_count": 15,
   "metadata": {},
   "outputs": [],
   "source": [
    "import pandas as pd\n",
    "df = pd.read_csv(\"wiki.csv\", usecols=['Title'])\n",
    "X= []\n",
    "for index, row in df.iterrows():\n",
    "    X.append(row.Title)"
   ]
  },
  {
   "cell_type": "code",
   "execution_count": 17,
   "metadata": {},
   "outputs": [],
   "source": [
    "i = 0\n",
    "with open('XBot_definition_of_ai_component.txt', 'w',encoding='utf-8-sig') as ft:\n",
    "    while i < 119 :\n",
    "        ft.write(\"    - what is  [\"+ str(X[i]) +\"](title)\")\n",
    "        ft.write(\"\\n\")\n",
    "        ft.write(\"    - tell me what is  [\"+ str(X[i+1]) +\"](title)\")\n",
    "        ft.write(\"\\n\")\n",
    "        ft.write(\"    - i don\\'t understand [\"+ str(X[i+2]) +\"](title)\")\n",
    "        ft.write(\"\\n\")\n",
    "        i += 3\n",
    "\n",
    "       "
   ]
  },
  {
   "cell_type": "code",
   "execution_count": 18,
   "metadata": {},
   "outputs": [],
   "source": [
    "i = 0\n",
    "with open('XBot_start_with_ai_component.txt', 'w',encoding='utf-8-sig') as ft:\n",
    "    while i < 119 :\n",
    "        ft.write(\"    - how can i start with  [\"+ str(X[i]) +\"](title)\")\n",
    "        ft.write(\"\\n\")\n",
    "        ft.write(\"    - starting point of  [\"+ str(X[i+1]) +\"](title)\")\n",
    "        ft.write(\"\\n\")\n",
    "        ft.write(\"    - from where should'i get start [\"+ str(X[i+2]) +\"](title)\")\n",
    "        ft.write(\"\\n\")\n",
    "        i += 3\n"
   ]
  },
  {
   "cell_type": "code",
   "execution_count": 19,
   "metadata": {},
   "outputs": [],
   "source": [
    "i = 0\n",
    "with open('XBot_version_of_ai_component.txt', 'w',encoding='utf-8-sig') as ft:\n",
    "    while i < 119 :\n",
    "        ft.write(\"    - what is the current version of  [\"+ str(X[i]) +\"](title)\")\n",
    "        ft.write(\"\\n\")\n",
    "        ft.write(\"    - last version of  [\"+ str(X[i+1]) +\"](title)\")\n",
    "        ft.write(\"\\n\")\n",
    "        ft.write(\"    - the version of [\"+ str(X[i+2]) +\"](title)\")\n",
    "        ft.write(\"\\n\")\n",
    "        i += 3\n"
   ]
  },
  {
   "cell_type": "code",
   "execution_count": 20,
   "metadata": {},
   "outputs": [],
   "source": [
    "i = 0\n",
    "with open('XBot_website_to_ai_component.txt', 'w',encoding='utf-8-sig') as ft:\n",
    "    while i < 119 :\n",
    "        ft.write(\"    - and the website of  [\"+ str(X[i]) +\"](title)\")\n",
    "        ft.write(\"\\n\")\n",
    "        ft.write(\"    - need more info on  [\"+ str(X[i+1]) +\"](title)\")\n",
    "        ft.write(\"\\n\")\n",
    "        ft.write(\"    - link to [\"+ str(X[i+2]) +\"](title) website\")\n",
    "        ft.write(\"\\n\")\n",
    "        i += 3\n"
   ]
  },
  {
   "cell_type": "code",
   "execution_count": 22,
   "metadata": {},
   "outputs": [],
   "source": [
    "i = 0\n",
    "with open('XBot_next_step_ai_component.txt', 'w',encoding='utf-8-sig') as ft:\n",
    "    while i < 119 :\n",
    "        ft.write(\"    - what is next step after  [\"+ str(X[i]) +\"](title)\")\n",
    "        ft.write(\"\\n\")\n",
    "        ft.write(\"    - after  [\"+ str(X[i+1]) +\"](title)\")\n",
    "        ft.write(\"\\n\")\n",
    "        ft.write(\"    - what do you propose after [\"+ str(X[i+2]) +\"](title) website\")\n",
    "        ft.write(\"\\n\")\n",
    "        i += 3\n"
   ]
  },
  {
   "cell_type": "code",
   "execution_count": 23,
   "metadata": {},
   "outputs": [],
   "source": [
    "i = 0\n",
    "with open('XBot_architecture_of_ai_component.txt', 'w',encoding='utf-8-sig') as ft:\n",
    "    while i < 119 :\n",
    "        ft.write(\"    - any images for  [\"+ str(X[i]) +\"](title) explication\")\n",
    "        ft.write(\"\\n\")\n",
    "        ft.write(\"    - simple definition of  [\"+ str(X[i+1]) +\"](title)\")\n",
    "        ft.write(\"\\n\")\n",
    "        ft.write(\"    - what is the architecture of [\"+ str(X[i+2]) +\"](title) website\")\n",
    "        ft.write(\"\\n\")\n",
    "        i += 3\n"
   ]
  },
  {
   "cell_type": "code",
   "execution_count": null,
   "metadata": {},
   "outputs": [],
   "source": []
  }
 ]
}